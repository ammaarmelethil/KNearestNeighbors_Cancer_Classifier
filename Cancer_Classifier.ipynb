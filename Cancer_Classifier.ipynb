{
 "cells": [
  {
   "cell_type": "code",
   "execution_count": 23,
   "id": "initial_id",
   "metadata": {
    "collapsed": true,
    "ExecuteTime": {
     "end_time": "2024-01-01T01:10:41.438880Z",
     "start_time": "2024-01-01T01:10:38.968984Z"
    }
   },
   "outputs": [],
   "source": [
    "# Importing the necessary dependencies\n",
    "from sklearn.datasets import load_breast_cancer\n",
    "from sklearn.model_selection import train_test_split\n",
    "from sklearn.neighbors import KNeighborsClassifier\n",
    "import matplotlib.pyplot as plt"
   ]
  },
  {
   "cell_type": "markdown",
   "source": [
    "EXPLORING THE DATA"
   ],
   "metadata": {
    "collapsed": false
   },
   "id": "3a99ac499af81a97"
  },
  {
   "cell_type": "code",
   "execution_count": 13,
   "outputs": [
    {
     "name": "stdout",
     "output_type": "stream",
     "text": [
      "[1.799e+01 1.038e+01 1.228e+02 1.001e+03 1.184e-01 2.776e-01 3.001e-01\n",
      " 1.471e-01 2.419e-01 7.871e-02 1.095e+00 9.053e-01 8.589e+00 1.534e+02\n",
      " 6.399e-03 4.904e-02 5.373e-02 1.587e-02 3.003e-02 6.193e-03 2.538e+01\n",
      " 1.733e+01 1.846e+02 2.019e+03 1.622e-01 6.656e-01 7.119e-01 2.654e-01\n",
      " 4.601e-01 1.189e-01]\n",
      "['mean radius' 'mean texture' 'mean perimeter' 'mean area'\n",
      " 'mean smoothness' 'mean compactness' 'mean concavity'\n",
      " 'mean concave points' 'mean symmetry' 'mean fractal dimension'\n",
      " 'radius error' 'texture error' 'perimeter error' 'area error'\n",
      " 'smoothness error' 'compactness error' 'concavity error'\n",
      " 'concave points error' 'symmetry error' 'fractal dimension error'\n",
      " 'worst radius' 'worst texture' 'worst perimeter' 'worst area'\n",
      " 'worst smoothness' 'worst compactness' 'worst concavity'\n",
      " 'worst concave points' 'worst symmetry' 'worst fractal dimension']\n"
     ]
    }
   ],
   "source": [
    "breast_cancer_data = load_breast_cancer()\n",
    "print(breast_cancer_data.data[0])\n",
    "print(breast_cancer_data.feature_names)"
   ],
   "metadata": {
    "collapsed": false,
    "ExecuteTime": {
     "end_time": "2024-01-01T01:03:06.498909Z",
     "start_time": "2024-01-01T01:03:06.469057Z"
    }
   },
   "id": "9ef0585e341be25f"
  },
  {
   "cell_type": "code",
   "execution_count": 14,
   "outputs": [
    {
     "name": "stdout",
     "output_type": "stream",
     "text": [
      "[0 0 0 0 0 0 0 0 0 0 0 0 0 0 0 0 0 0 0 1 1 1 0 0 0 0 0 0 0 0 0 0 0 0 0 0 0\n",
      " 1 0 0 0 0 0 0 0 0 1 0 1 1 1 1 1 0 0 1 0 0 1 1 1 1 0 1 0 0 1 1 1 1 0 1 0 0\n",
      " 1 0 1 0 0 1 1 1 0 0 1 0 0 0 1 1 1 0 1 1 0 0 1 1 1 0 0 1 1 1 1 0 1 1 0 1 1\n",
      " 1 1 1 1 1 1 0 0 0 1 0 0 1 1 1 0 0 1 0 1 0 0 1 0 0 1 1 0 1 1 0 1 1 1 1 0 1\n",
      " 1 1 1 1 1 1 1 1 0 1 1 1 1 0 0 1 0 1 1 0 0 1 1 0 0 1 1 1 1 0 1 1 0 0 0 1 0\n",
      " 1 0 1 1 1 0 1 1 0 0 1 0 0 0 0 1 0 0 0 1 0 1 0 1 1 0 1 0 0 0 0 1 1 0 0 1 1\n",
      " 1 0 1 1 1 1 1 0 0 1 1 0 1 1 0 0 1 0 1 1 1 1 0 1 1 1 1 1 0 1 0 0 0 0 0 0 0\n",
      " 0 0 0 0 0 0 0 1 1 1 1 1 1 0 1 0 1 1 0 1 1 0 1 0 0 1 1 1 1 1 1 1 1 1 1 1 1\n",
      " 1 0 1 1 0 1 0 1 1 1 1 1 1 1 1 1 1 1 1 1 1 0 1 1 1 0 1 0 1 1 1 1 0 0 0 1 1\n",
      " 1 1 0 1 0 1 0 1 1 1 0 1 1 1 1 1 1 1 0 0 0 1 1 1 1 1 1 1 1 1 1 1 0 0 1 0 0\n",
      " 0 1 0 0 1 1 1 1 1 0 1 1 1 1 1 0 1 1 1 0 1 1 0 0 1 1 1 1 1 1 0 1 1 1 1 1 1\n",
      " 1 0 1 1 1 1 1 0 1 1 0 1 1 1 1 1 1 1 1 1 1 1 1 0 1 0 0 1 0 1 1 1 1 1 0 1 1\n",
      " 0 1 0 1 1 0 1 0 1 1 1 1 1 1 1 1 0 0 1 1 1 1 1 1 0 1 1 1 1 1 1 1 1 1 1 0 1\n",
      " 1 1 1 1 1 1 0 1 0 1 1 0 1 1 1 1 1 0 0 1 0 1 0 1 1 1 1 1 0 1 1 0 1 0 1 0 0\n",
      " 1 1 1 0 1 1 1 1 1 1 1 1 1 1 1 0 1 0 0 1 1 1 1 1 1 1 1 1 1 1 1 1 1 1 1 1 1\n",
      " 1 1 1 1 1 1 1 0 0 0 0 0 0 1]\n",
      "['malignant' 'benign']\n"
     ]
    }
   ],
   "source": [
    "print(breast_cancer_data.target)\n",
    "print(breast_cancer_data.target_names) # We see 0:Malignant and 1:Benign "
   ],
   "metadata": {
    "collapsed": false,
    "ExecuteTime": {
     "end_time": "2024-01-01T01:03:06.499320Z",
     "start_time": "2024-01-01T01:03:06.492667Z"
    }
   },
   "id": "5747dc60735fcb80"
  },
  {
   "cell_type": "markdown",
   "source": [
    "SPLITTING THE DATA INTO TEST AND VALIDATION SETS"
   ],
   "metadata": {
    "collapsed": false
   },
   "id": "f126f69dfc6dcaf9"
  },
  {
   "cell_type": "code",
   "execution_count": 15,
   "outputs": [
    {
     "name": "stdout",
     "output_type": "stream",
     "text": [
      "455 455\n"
     ]
    }
   ],
   "source": [
    "training_data, testing_data, training_labels, testing_labels = train_test_split(\n",
    "    breast_cancer_data.data, # Data we want to split\n",
    "    breast_cancer_data.target, # Labels associated with the data\n",
    "    test_size=0.2,\n",
    "    random_state=100 \n",
    ")\n",
    "\n",
    "# Checking to see if splitting was done correctly:\n",
    "print(len(training_data), len(training_labels)) # Should be the same size"
   ],
   "metadata": {
    "collapsed": false,
    "ExecuteTime": {
     "end_time": "2024-01-01T01:03:06.506124Z",
     "start_time": "2024-01-01T01:03:06.496084Z"
    }
   },
   "id": "32a1351397326aa"
  },
  {
   "cell_type": "markdown",
   "source": [
    "RUNNING THE CLASSIFIER"
   ],
   "metadata": {
    "collapsed": false
   },
   "id": "a59d1c90539f86bd"
  },
  {
   "cell_type": "code",
   "execution_count": 16,
   "outputs": [
    {
     "name": "stdout",
     "output_type": "stream",
     "text": [
      "0.9473684210526315\n"
     ]
    }
   ],
   "source": [
    "# Initial test at k=3:\n",
    "classifier = KNeighborsClassifier(n_neighbors=3)\n",
    "classifier.fit(training_data, training_labels) # Training the classifier \n",
    "print(classifier.score(testing_data, testing_labels))"
   ],
   "metadata": {
    "collapsed": false,
    "ExecuteTime": {
     "end_time": "2024-01-01T01:03:06.560571Z",
     "start_time": "2024-01-01T01:03:06.507880Z"
    }
   },
   "id": "52cbb42b2c0dbeeb"
  },
  {
   "cell_type": "code",
   "execution_count": 18,
   "outputs": [
    {
     "name": "stdout",
     "output_type": "stream",
     "text": [
      "0.9298245614035088\n",
      "0.9385964912280702\n",
      "0.9473684210526315\n",
      "0.9473684210526315\n",
      "0.9473684210526315\n",
      "0.9473684210526315\n",
      "0.9473684210526315\n",
      "0.9473684210526315\n",
      "0.956140350877193\n",
      "0.956140350877193\n",
      "0.956140350877193\n",
      "0.956140350877193\n",
      "0.956140350877193\n",
      "0.956140350877193\n",
      "0.956140350877193\n",
      "0.956140350877193\n",
      "0.956140350877193\n",
      "0.956140350877193\n",
      "0.956140350877193\n",
      "0.956140350877193\n",
      "0.956140350877193\n",
      "0.956140350877193\n",
      "0.9649122807017544\n",
      "0.9649122807017544\n",
      "0.956140350877193\n",
      "0.956140350877193\n",
      "0.956140350877193\n",
      "0.956140350877193\n",
      "0.9473684210526315\n",
      "0.9473684210526315\n",
      "0.9473684210526315\n",
      "0.9473684210526315\n",
      "0.9473684210526315\n",
      "0.9473684210526315\n",
      "0.9473684210526315\n",
      "0.9473684210526315\n",
      "0.956140350877193\n",
      "0.956140350877193\n",
      "0.956140350877193\n",
      "0.956140350877193\n",
      "0.956140350877193\n",
      "0.956140350877193\n",
      "0.956140350877193\n",
      "0.9473684210526315\n",
      "0.956140350877193\n",
      "0.9473684210526315\n",
      "0.956140350877193\n",
      "0.956140350877193\n",
      "0.956140350877193\n",
      "0.956140350877193\n",
      "0.9473684210526315\n",
      "0.9473684210526315\n",
      "0.9473684210526315\n",
      "0.956140350877193\n",
      "0.956140350877193\n",
      "0.9649122807017544\n",
      "0.9473684210526315\n",
      "0.9473684210526315\n",
      "0.9385964912280702\n",
      "0.9298245614035088\n",
      "0.9298245614035088\n",
      "0.9385964912280702\n",
      "0.9473684210526315\n",
      "0.9385964912280702\n",
      "0.9385964912280702\n",
      "0.9385964912280702\n",
      "0.9385964912280702\n",
      "0.9385964912280702\n",
      "0.9385964912280702\n",
      "0.9385964912280702\n",
      "0.9385964912280702\n",
      "0.9385964912280702\n",
      "0.9385964912280702\n",
      "0.9385964912280702\n",
      "0.9385964912280702\n",
      "0.9385964912280702\n",
      "0.9298245614035088\n",
      "0.9298245614035088\n",
      "0.9298245614035088\n",
      "0.9298245614035088\n",
      "0.9210526315789473\n",
      "0.9298245614035088\n",
      "0.9210526315789473\n",
      "0.9385964912280702\n",
      "0.9298245614035088\n",
      "0.9385964912280702\n",
      "0.9385964912280702\n",
      "0.9385964912280702\n",
      "0.9298245614035088\n",
      "0.9298245614035088\n",
      "0.9210526315789473\n",
      "0.9385964912280702\n",
      "0.9210526315789473\n",
      "0.9298245614035088\n",
      "0.9298245614035088\n",
      "0.9385964912280702\n",
      "0.9298245614035088\n",
      "0.9385964912280702\n",
      "0.9298245614035088\n",
      "0.9298245614035088\n"
     ]
    }
   ],
   "source": [
    "# Testing validation accuracy at k = (1, 100) to determine best k\n",
    "for k in range(1, 101):\n",
    "    classifier = KNeighborsClassifier(n_neighbors=k)\n",
    "    classifier.fit(training_data, training_labels)\n",
    "    print(classifier.score(testing_data, testing_labels))"
   ],
   "metadata": {
    "collapsed": false,
    "ExecuteTime": {
     "end_time": "2024-01-01T01:03:23.127857Z",
     "start_time": "2024-01-01T01:03:22.737575Z"
    }
   },
   "id": "3e89e107046788d2"
  },
  {
   "cell_type": "markdown",
   "source": [
    "GRAPHING THE RESULTS"
   ],
   "metadata": {
    "collapsed": false
   },
   "id": "8eb7b0e3b3cd4368"
  },
  {
   "cell_type": "code",
   "execution_count": 21,
   "outputs": [],
   "source": [
    "k_list = range(1,101)\n",
    "accuracies = []\n",
    "for k_val in k_list:\n",
    "    classifier = KNeighborsClassifier(n_neighbors=k_val)\n",
    "    classifier.fit(training_data, training_labels)\n",
    "    accuracies.append(classifier.score(testing_data, testing_labels))"
   ],
   "metadata": {
    "collapsed": false,
    "ExecuteTime": {
     "end_time": "2024-01-01T01:09:04.596204Z",
     "start_time": "2024-01-01T01:09:04.162336Z"
    }
   },
   "id": "1316dc4e80f4728c"
  },
  {
   "cell_type": "code",
   "execution_count": 25,
   "outputs": [
    {
     "data": {
      "text/plain": "<Figure size 640x480 with 1 Axes>",
      "image/png": "[encoded data removed]"
     },
     "metadata": {},
     "output_type": "display_data"
    }
   ],
   "source": [
    "plt.plot(k_list, accuracies)\n",
    "plt.xlabel('K Value')\n",
    "plt.ylabel('Accuracy')\n",
    "plt.title('Accuracy vs K Value for K-Nearest Neighbors Breast Cancer Classifier')\n",
    "plt.show()"
   ],
   "metadata": {
    "collapsed": false,
    "ExecuteTime": {
     "end_time": "2024-01-01T01:11:23.171380Z",
     "start_time": "2024-01-01T01:11:23.072103Z"
    }
   },
   "id": "7ff76f9ec1fd1741"
  },
  {
   "cell_type": "markdown",
   "source": [
    "We see the best k values are ~= 22, 23, 56"
   ],
   "metadata": {
    "collapsed": false
   },
   "id": "5d1427f68123fd5e"
  }
 ],
 "metadata": {
  "kernelspec": {
   "display_name": "Python 3",
   "language": "python",
   "name": "python3"
  },
  "language_info": {
   "codemirror_mode": {
    "name": "ipython",
    "version": 2
   },
   "file_extension": ".py",
   "mimetype": "text/x-python",
   "name": "python",
   "nbconvert_exporter": "python",
   "pygments_lexer": "ipython2",
   "version": "2.7.6"
  }
 },
 "nbformat": 4,
 "nbformat_minor": 5
}
